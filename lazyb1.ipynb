{
 "cells": [
  {
   "cell_type": "code",
   "execution_count": 24,
   "metadata": {},
   "outputs": [
    {
     "name": "stdout",
     "output_type": "stream",
     "text": [
      "sys.version_info(major=3, minor=8, micro=5, releaselevel='final', serial=0)\n"
     ]
    }
   ],
   "source": [
    "from colored import fg, bg, attr\n",
    "import argparse\n",
    "import time\n",
    "\n",
    "starttime = time.time()\n",
    "\n",
    "print(sys.version_info)"
   ]
  },
  {
   "cell_type": "code",
   "execution_count": 25,
   "metadata": {},
   "outputs": [],
   "source": [
    "rules = {\n",
    "\"Iron Ore\":{\"rtyp\":\"RawMat\",\"T\":0.5,\"Ab\":\"IRO\",\"harvest\":\"Iron Ore Patch\",\"meth\":\"Harvest,Miner\"},\n",
    "\"Copper Ore\":{\"rtyp\":\"RawMat\",\"T\":0.5,\"Ab\":\"CPO\",\"harvest\":\"Copper Ore Patch\",\"meth\":\"Harvest,Miner\"},\n",
    "\"Stone\":{\"rtyp\":\"RawMat\",\"T\":0.5,\"Ab\":\"STO\",\"harvest\":\"Stone Patch\",\"meth\":\"Harvest,Miner\"},\n",
    "\"Wood\":{\"rtyp\":\"RawMat\",\"T\":0.5,\"Ab\":\"WOD\",\"harvest\":\"Woods\",\"meth\":\"Harvest\"},\n",
    "\"Coal\":{\"rtyp\":\"RawMat\",\"T\":0.5,\"Ab\":\"COL\",\"harvest\":\"Coal Patch\",\"meth\":\"Harvest,Miner\"},\n",
    "\"Oil\":{\"rtyp\":\"RawFluid\",\"T\":0.5,\"Ab\":\"OIL\",\"harvest\":\"Oil Patch\",\"meth\":\"Oil Pump\"},\n",
    "\n",
    "\"Iron Plates\":{\"rtyp\":\"Item\",\"T\":3.2,\"Ab\":\"IPL\",\"meth\":\"Furnace\",\"Req\":{\"IRO\":1}},\n",
    "\"Copper Plates\":{\"rtyp\":\"Item\",\"T\":3.2,\"Ab\":\"CPL\",\"meth\":\"Furnace\",\"Req\":{\"CPO\":1}},\n",
    "\n",
    "\"Gears\":{\"rtyp\":\"Item\",\"T\":0.5,\"Ab\":\"GER\",\"meth\":\"Craft,ARBG\",\"Req\":{\"IPL\":2}},\n",
    "\"Pipes\":{\"rtyp\":\"Item\",\"T\":0.5,\"Ab\":\"PIP\",\"meth\":\"Craft,ARBG\",\"Req\":{\"IPL\":1}},\n",
    "\n",
    "\"Coil\":{\"rtyp\":\"Item\",\"T\":0.5,\"Ab\":\"COI\",\"meth\":\"Craft,ARBG\",\"Req\":{\"CPL\":0.5}},\n",
    "\"Yellow Belt\":{\"rtyp\":\"Item\",\"T\":0.5,\"Ab\":\"YBT\",\"meth\":\"Craft,ARBG\",\"Req\":{\"IPL\":0.5,\"GER\":0.5}},\n",
    "\"Green Circuits\":{\"rtyp\":\"Item\",\"T\":0.5,\"Ab\":\"GCI\",\"meth\":\"Craft,ARBG\",\"Req\":{\"IPL\":1,\"COI\":1}},\n",
    "\n",
    "\"Offshore Pump\":{\"rtyp\":\"Item\",\"T\":0.5,\"Ab\":\"OFP\",\"meth\":\"Craft,ARBG\",\"Req\":{\"GER\":1,\"PIP\":1,\"GCI\":2}},\n",
    "\"Stone Furnace\":{\"rtyp\":\"Item\",\"T\":0.5,\"Ab\":\"STF\",\"meth\":\"Craft,ARBG\",\"Req\":{\"STO\":5}},\n",
    "\"Boiler\":{\"rtyp\":\"Item\",\"T\":0.5,\"Ab\":\"BOL\",\"meth\":\"Craft,ARBG\",\"Req\":{\"PIP\":4,\"STF\":1}},\n",
    "\"Steam Engine\":{\"rtyp\":\"Item\",\"T\":0.5,\"Ab\":\"SEG\",\"meth\":\"Craft,ARBG\",\"Req\":{\"IPL\":10,\"GER\":8,\"PIP\":5}},\n",
    "\"Small PowerPole\":{\"rtyp\":\"Item\",\"T\":0.5,\"Ab\":\"SPP\",\"meth\":\"Craft,ARBG\",\"Req\":{\"WOD\":1,\"CPL\":1}},\n",
    "\n",
    "\"Lab\":{\"rtyp\":\"Item\",\"T\":2,\"Ab\":\"LAB\",\"meth\":\"Craft,ARBG\",\"Req\":{\"YBT\":4,\"GER\":10,\"GCI\":10}},\n",
    "\"Red Science\":{\"rtyp\":\"Item\",\"T\":5,\"Ab\":\"RSI\",\"meth\":\"Craft,ARBG\",\"Req\":{\"CPL\":1,\"GER\":1}},\n",
    "\"Automation Research\":{\"rtyp\":\"Item\",\"T\":5,\"Ab\":\"ATR\",\"meth\":\"Lab\",\"Req\":{\"RSI\":10,\"OFP\":1,\"BOL\":1,\"SEG\":1,\"SPP\":1,\"LAB\":1}},\n",
    "\n",
    "\"Assembler 1\":{\"rtyp\":\"Item\",\"T\":5,\"Ab\":\"AS1\",\"meth\":\"Craft,ARBG\",\"Req\":{\"IPL\":9,\"GER\":5,\"GCI\":3,\"ATR\":1}},\n",
    "}"
   ]
  },
  {
   "cell_type": "code",
   "execution_count": 27,
   "metadata": {},
   "outputs": [],
   "source": [
    "class RulingClass:\n",
    "\n",
    "    abdict = {}\n",
    "    reqlist = []\n",
    "\n",
    "    def __init__(self):\n",
    "\n",
    "        # make abreviation lookup dict\n",
    "        i = 0\n",
    "        self.abdict = {}\n",
    "        for itemname,rule in rules.items():\n",
    "            ab = rule[\"Ab\"]\n",
    "            self.abdict[ab] = rule\n",
    "            rule[\"name\"] = itemname\n",
    "            print(f\"{i} {itemname} {ab} len:{len(self.abdict)}\")\n",
    "            i += 1\n",
    "\n",
    "        # check requirements correctness\n",
    "        nbad = 0\n",
    "        nok = 0\n",
    "        for itemname,rule in rules.items():\n",
    "            rtyp = rule[\"rtyp\"]\n",
    "            if rtyp==\"Item\":\n",
    "                req = rule[\"Req\"]\n",
    "                for reqab,reqquant in req.items():\n",
    "                    if not reqab in self.abdict:\n",
    "                        print(f\"Error - bad abreviation {reqab} in rule {itemname}\")\n",
    "                        nbad += 1\n",
    "                    else:\n",
    "                        nok += 1\n",
    "        print(f\"Checked rule abreviations in reqs nok:{nok} nbad:{nbad}\")\n",
    "\n",
    "    def add_rule_to_list(self,rule):\n",
    "        self.reqlist.append(rule)\n",
    "        if not \"Req\" in rule:\n",
    "            # must be a raw material\n",
    "            return\n",
    "        req = rule[\"Req\"]\n",
    "        for reqab,reqquant in req.items():\n",
    "            if not reqab in self.abdict:\n",
    "                rulename = rule[\"name\"]\n",
    "                raise Exception(f\"Error - bad abreviation {reqab} in rule {rulename}\")\n",
    "            reqrule = self.abdict[reqab]\n",
    "            if reqquant==0.5:\n",
    "                reqquant = 1\n",
    "            for i in range(0,reqquant):\n",
    "                self.add_rule_to_list(reqrule)        \n",
    "\n",
    "    def make_req_list(self, req:str):\n",
    "\n",
    "        if not req in self.abdict:\n",
    "            raise Exception(\"req not in abdict\")\n",
    "\n",
    "        start_rule = self.abdict[req]\n",
    "\n",
    "        self.reqlist = []\n",
    "        self.add_rule_to_list(start_rule)        "
   ]
  },
  {
   "cell_type": "code",
   "execution_count": 29,
   "metadata": {},
   "outputs": [
    {
     "name": "stdout",
     "output_type": "stream",
     "text": [
      "0 Iron Ore IRO len:1\n",
      "1 Copper Ore CPO len:2\n",
      "2 Stone STO len:3\n",
      "3 Wood WOD len:4\n",
      "4 Coal COL len:5\n",
      "5 Oil OIL len:6\n",
      "6 Iron Plates IPL len:7\n",
      "7 Copper Plates CPL len:8\n",
      "8 Gears GER len:9\n",
      "9 Pipes PIP len:10\n",
      "10 Coil COI len:11\n",
      "11 Yellow Belt YBT len:12\n",
      "12 Green Circuits GCI len:13\n",
      "13 Offshore Pump OFP len:14\n",
      "14 Stone Furnace STF len:15\n",
      "15 Boiler BOL len:16\n",
      "16 Steam Engine SEG len:17\n",
      "17 Small PowerPole SPP len:18\n",
      "18 Lab LAB len:19\n",
      "19 Red Science RSI len:20\n",
      "20 Automation Research ATR len:21\n",
      "21 Assembler 1 AS1 len:22\n",
      "Checked rule abreviations in reqs nok:35 nbad:0\n"
     ]
    },
    {
     "ename": "AttributeError",
     "evalue": "'RulingClass' object has no attribute 'add_rule_to_list'",
     "output_type": "error",
     "traceback": [
      "\u001b[1;31m---------------------------------------------------------------------------\u001b[0m",
      "\u001b[1;31mAttributeError\u001b[0m                            Traceback (most recent call last)",
      "\u001b[1;32m<ipython-input-29-b29b1a8206d5>\u001b[0m in \u001b[0;36m<module>\u001b[1;34m\u001b[0m\n\u001b[0;32m      2\u001b[0m \u001b[1;33m\u001b[0m\u001b[0m\n\u001b[0;32m      3\u001b[0m \u001b[0mmakename\u001b[0m \u001b[1;33m=\u001b[0m \u001b[1;34m\"AS1\"\u001b[0m\u001b[1;33m\u001b[0m\u001b[1;33m\u001b[0m\u001b[0m\n\u001b[1;32m----> 4\u001b[1;33m \u001b[0mrc\u001b[0m\u001b[1;33m.\u001b[0m\u001b[0mmake_req_list\u001b[0m\u001b[1;33m(\u001b[0m\u001b[1;34m\"AS1\"\u001b[0m\u001b[1;33m)\u001b[0m\u001b[1;33m\u001b[0m\u001b[1;33m\u001b[0m\u001b[0m\n\u001b[0m\u001b[0;32m      5\u001b[0m \u001b[1;33m\u001b[0m\u001b[0m\n\u001b[0;32m      6\u001b[0m \u001b[0mncraft\u001b[0m \u001b[1;33m=\u001b[0m \u001b[1;36m0\u001b[0m\u001b[1;33m\u001b[0m\u001b[1;33m\u001b[0m\u001b[0m\n",
      "\u001b[1;32m<ipython-input-27-d189a28e4137>\u001b[0m in \u001b[0;36mmake_req_list\u001b[1;34m(self, req)\u001b[0m\n\u001b[0;32m     39\u001b[0m \u001b[1;33m\u001b[0m\u001b[0m\n\u001b[0;32m     40\u001b[0m         \u001b[0mself\u001b[0m\u001b[1;33m.\u001b[0m\u001b[0mreqlist\u001b[0m \u001b[1;33m=\u001b[0m \u001b[1;33m[\u001b[0m\u001b[1;33m]\u001b[0m\u001b[1;33m\u001b[0m\u001b[1;33m\u001b[0m\u001b[0m\n\u001b[1;32m---> 41\u001b[1;33m         \u001b[0mself\u001b[0m\u001b[1;33m.\u001b[0m\u001b[0madd_rule_to_list\u001b[0m\u001b[1;33m(\u001b[0m\u001b[0mstart_rule\u001b[0m\u001b[1;33m)\u001b[0m\u001b[1;33m\u001b[0m\u001b[1;33m\u001b[0m\u001b[0m\n\u001b[0m",
      "\u001b[1;31mAttributeError\u001b[0m: 'RulingClass' object has no attribute 'add_rule_to_list'"
     ]
    }
   ],
   "source": [
    "rc = RulingClass()\n",
    "\n",
    "makename = \"AS1\"\n",
    "rc.make_req_list(\"AS1\")\n",
    "\n",
    "ncraft = 0\n",
    "nfurnace = 0\n",
    "nraw = 0\n",
    "nironplate = 0\n",
    "ncopperplate = 0\n",
    "nironore = 0\n",
    "ncopperore = 0\n",
    "nstone = 0\n",
    "idx = 0\n",
    "for r in rc.reqlist:\n",
    "\n",
    "    meth = r[\"meth\"]\n",
    "    if \"Craft\" in meth:\n",
    "        ncraft += 1\n",
    "    elif \"Furnace\" in meth:\n",
    "        nfurnace += 1\n",
    "    else:\n",
    "        nraw += 1\n",
    "\n",
    "    if r[\"rtyp\"]==\"Item\":\n",
    "        if r[\"Ab\"]==\"IPL\":\n",
    "            nironplate += 1\n",
    "        if r[\"Ab\"]==\"CPL\":\n",
    "            ncopperplate += 1\n",
    "\n",
    "    if r[\"rtyp\"]==\"RawMat\":\n",
    "        if r[\"Ab\"]==\"IRO\":\n",
    "            nironore += 1\n",
    "        if r[\"Ab\"]==\"CPO\":\n",
    "            ncopperore += 1\n",
    "        if r[\"Ab\"]==\"STO\":\n",
    "            nstone += 1            \n",
    "\n",
    "\n",
    "    color = bg('navy_blue') + fg('white')\n",
    "    reset = attr('reset')\n",
    "    if \"Craft\" in r[\"meth\"]:\n",
    "        color = bg('indian_red_1a') + fg('white')\n",
    "    \n",
    "    idx += 1\n",
    "    print(color,idx,\" \", r, reset)"
   ]
  },
  {
   "cell_type": "code",
   "execution_count": null,
   "metadata": {},
   "outputs": [
    {
     "ename": "",
     "evalue": "",
     "output_type": "error",
     "traceback": [
      "\u001b[1;31mRunning cells with 'Python 3.9.6' requires ipykernel package.\n",
      "Run the following command to install 'ipykernel' into the Python environment. \n",
      "Command: 'conda install -p c:\\Users\\mike\\anaconda3\\envs\\threading ipykernel --update-deps --force-reinstall'"
     ]
    },
    {
     "ename": "",
     "evalue": "",
     "output_type": "error",
     "traceback": [
      "\u001b[1;31mRunning cells with 'Python 3.9.6' requires ipykernel package.\n",
      "Run the following command to install 'ipykernel' into the Python environment. \n",
      "Command: 'conda install -p c:\\Users\\mike\\anaconda3\\envs\\threading ipykernel --update-deps --force-reinstall'"
     ]
    },
    {
     "ename": "",
     "evalue": "",
     "output_type": "error",
     "traceback": [
      "\u001b[1;31mRunning cells with 'Python 3.9.6' requires ipykernel package.\n",
      "Run the following command to install 'ipykernel' into the Python environment. \n",
      "Command: 'conda install -p c:\\Users\\mike\\anaconda3\\envs\\threading ipykernel --update-deps --force-reinstall'"
     ]
    },
    {
     "ename": "",
     "evalue": "",
     "output_type": "error",
     "traceback": [
      "\u001b[1;31mRunning cells with 'Python 3.9.6' requires ipykernel package.\n",
      "Run the following command to install 'ipykernel' into the Python environment. \n",
      "Command: 'conda install -p c:\\Users\\mike\\anaconda3\\envs\\threading ipykernel --update-deps --force-reinstall'"
     ]
    }
   ],
   "source": [
    "print(f\"to make {makename} you need craft:{ncraft} furnace:{nfurnace} raw:{nraw}\")\n",
    "print(f\"to make {makename} you need iron-plate:{nironplate} copper-plate:{ncopperplate}\")\n",
    "print(f\"to make {makename} you need iron-ore:{nironore} copper-ore:{ncopperore}  stone:{nstone}\")\n",
    "\n",
    "\n",
    "print(f\"to make {makename} you need req_list_len:{len(rc.reqlist)}\")\n"
   ]
  }
 ],
 "metadata": {
  "kernelspec": {
   "display_name": "Python 3.8.5 ('base')",
   "language": "python",
   "name": "python3"
  },
  "language_info": {
   "codemirror_mode": {
    "name": "ipython",
    "version": 3
   },
   "file_extension": ".py",
   "mimetype": "text/x-python",
   "name": "python",
   "nbconvert_exporter": "python",
   "pygments_lexer": "ipython3",
   "version": "3.8.5"
  },
  "orig_nbformat": 4,
  "vscode": {
   "interpreter": {
    "hash": "3a0477543e61acc71ef4f9b1c924655a4da7d9ef869e9f1b9653dc0824247bf0"
   }
  }
 },
 "nbformat": 4,
 "nbformat_minor": 2
}
